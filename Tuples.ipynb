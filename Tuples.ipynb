{
 "cells": [
  {
   "cell_type": "markdown",
   "id": "7a7ce5bd",
   "metadata": {},
   "source": [
    "### Hash value of integer n"
   ]
  },
  {
   "cell_type": "code",
   "execution_count": 3,
   "id": "d20b835e",
   "metadata": {},
   "outputs": [
    {
     "name": "stdout",
     "output_type": "stream",
     "text": [
      "2\n",
      "5\n",
      "-7813438383599366905\n"
     ]
    }
   ],
   "source": [
    "n=int(input())\n",
    "t=tuple(map(int,input().split()))\n",
    "print(hash(t))"
   ]
  },
  {
   "cell_type": "code",
   "execution_count": 4,
   "id": "d4f48408",
   "metadata": {},
   "outputs": [
    {
     "data": {
      "text/plain": [
       "2"
      ]
     },
     "execution_count": 4,
     "metadata": {},
     "output_type": "execute_result"
    }
   ],
   "source": [
    "hash(2)"
   ]
  },
  {
   "cell_type": "code",
   "execution_count": 5,
   "id": "035e63c9",
   "metadata": {},
   "outputs": [
    {
     "name": "stdout",
     "output_type": "stream",
     "text": [
      "False\n"
     ]
    }
   ],
   "source": [
    "x=(1.1+2.2)==3.3\n",
    "print(x)"
   ]
  },
  {
   "cell_type": "code",
   "execution_count": 6,
   "id": "f76dfcd3",
   "metadata": {},
   "outputs": [
    {
     "data": {
      "text/plain": [
       "3.3000000000000003"
      ]
     },
     "execution_count": 6,
     "metadata": {},
     "output_type": "execute_result"
    }
   ],
   "source": [
    "1.1+2.2"
   ]
  },
  {
   "cell_type": "code",
   "execution_count": 7,
   "id": "efd5b76f",
   "metadata": {},
   "outputs": [],
   "source": [
    "name_lengths = map(len, [\"Mary\", \"Isla\", \"Sam\"])"
   ]
  },
  {
   "cell_type": "code",
   "execution_count": 8,
   "id": "25f3164f",
   "metadata": {},
   "outputs": [
    {
     "name": "stdout",
     "output_type": "stream",
     "text": [
      "<map object at 0x00000203DEB24DC0>\n"
     ]
    }
   ],
   "source": [
    "print(name_lengths)"
   ]
  },
  {
   "cell_type": "code",
   "execution_count": 9,
   "id": "122e1f4f",
   "metadata": {},
   "outputs": [
    {
     "name": "stdout",
     "output_type": "stream",
     "text": [
      "[4, 4, 3]\n"
     ]
    }
   ],
   "source": [
    "print(list(name_lengths))"
   ]
  },
  {
   "cell_type": "code",
   "execution_count": null,
   "id": "3da4e06d",
   "metadata": {},
   "outputs": [],
   "source": []
  }
 ],
 "metadata": {
  "kernelspec": {
   "display_name": "Python 3",
   "language": "python",
   "name": "python3"
  },
  "language_info": {
   "codemirror_mode": {
    "name": "ipython",
    "version": 3
   },
   "file_extension": ".py",
   "mimetype": "text/x-python",
   "name": "python",
   "nbconvert_exporter": "python",
   "pygments_lexer": "ipython3",
   "version": "3.8.8"
  }
 },
 "nbformat": 4,
 "nbformat_minor": 5
}
